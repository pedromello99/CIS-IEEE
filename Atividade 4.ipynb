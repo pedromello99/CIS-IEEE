{
 "cells": [
  {
   "cell_type": "code",
   "execution_count": 3,
   "metadata": {},
   "outputs": [],
   "source": [
    "import numpy as np\n",
    "import matplotlib.pyplot as plt\n",
    "import pandas as pd\n",
    "from tensorflow.keras import models\n",
    "from tensorflow.keras import layers\n",
    "from tensorflow.keras import optimizers\n",
    "from tensorflow.keras.preprocessing.image import ImageDataGenerator"
   ]
  },
  {
   "cell_type": "code",
   "execution_count": 13,
   "metadata": {},
   "outputs": [],
   "source": [
    "batch_size = 32\n",
    "epochs = 10\n",
    "img_height = 224\n",
    "img_width = 224"
   ]
  },
  {
   "cell_type": "code",
   "execution_count": 7,
   "metadata": {},
   "outputs": [
    {
     "name": "stdout",
     "output_type": "stream",
     "text": [
      "Found 2400 images belonging to 3 classes.\n",
      "Found 600 images belonging to 3 classes.\n"
     ]
    }
   ],
   "source": [
    "\n",
    "datagen = ImageDataGenerator(rescale=1/255, validation_split=0.2)\n",
    "\n",
    "train_generator = datagen.flow_from_directory('animals',\n",
    "                                               target_size=(img_height, img_width), \n",
    "                                               batch_size=batch_size, \n",
    "                                               class_mode='categorical', \n",
    "                                               subset='training')\n",
    "\n",
    "validation_generator = datagen.flow_from_directory('animals', \n",
    "                                                    target_size=(img_height, img_width),\n",
    "                                                    batch_size=batch_size,\n",
    "                                                    class_mode='categorical',\n",
    "                                                    subset='validation')"
   ]
  },
  {
   "cell_type": "code",
   "execution_count": 9,
   "metadata": {},
   "outputs": [
    {
     "name": "stdout",
     "output_type": "stream",
     "text": [
      "Model: \"sequential_1\"\n",
      "_________________________________________________________________\n",
      " Layer (type)                Output Shape              Param #   \n",
      "=================================================================\n",
      " conv2d_3 (Conv2D)           (None, 222, 222, 32)      896       \n",
      "                                                                 \n",
      " max_pooling2d_2 (MaxPoolin  (None, 111, 111, 32)      0         \n",
      " g2D)                                                            \n",
      "                                                                 \n",
      " conv2d_4 (Conv2D)           (None, 109, 109, 64)      18496     \n",
      "                                                                 \n",
      " max_pooling2d_3 (MaxPoolin  (None, 54, 54, 64)        0         \n",
      " g2D)                                                            \n",
      "                                                                 \n",
      " conv2d_5 (Conv2D)           (None, 52, 52, 64)        36928     \n",
      "                                                                 \n",
      " flatten_1 (Flatten)         (None, 173056)            0         \n",
      "                                                                 \n",
      " dense_2 (Dense)             (None, 128)               22151296  \n",
      "                                                                 \n",
      " dense_3 (Dense)             (None, 3)                 387       \n",
      "                                                                 \n",
      "=================================================================\n",
      "Total params: 22208003 (84.72 MB)\n",
      "Trainable params: 22208003 (84.72 MB)\n",
      "Non-trainable params: 0 (0.00 Byte)\n",
      "_________________________________________________________________\n"
     ]
    }
   ],
   "source": [
    "# Criando CNN do zero com suas layers\n",
    "\n",
    "model = models.Sequential()\n",
    "model.add(layers.Conv2D(32, (3, 3), activation='relu', \n",
    "                        input_shape=(img_height, img_width, 3)))\n",
    "model.add(layers.MaxPooling2D((2, 2)))\n",
    "\n",
    "model.add(layers.Conv2D(64, (3, 3), activation='relu'))\n",
    "model.add(layers.MaxPooling2D(2, 2))\n",
    "\n",
    "model.add(layers.Conv2D(64, (3, 3), activation='relu'))\n",
    "model.add(layers.Flatten())\n",
    "model.add(layers.Dense(128, activation='relu'))\n",
    "model.add(layers.Dense(3, activation='softmax'))\n",
    "\n",
    "model.summary()\n"
   ]
  },
  {
   "cell_type": "code",
   "execution_count": 11,
   "metadata": {},
   "outputs": [],
   "source": [
    "model.compile(loss='categorical_crossentropy', \n",
    "              optimizer=optimizers.RMSprop(learning_rate=1e-4), \n",
    "              metrics=['acc'])"
   ]
  },
  {
   "cell_type": "code",
   "execution_count": 9,
   "metadata": {},
   "outputs": [
    {
     "name": "stdout",
     "output_type": "stream",
     "text": [
      "[name: \"/device:CPU:0\"\n",
      "device_type: \"CPU\"\n",
      "memory_limit: 268435456\n",
      "locality {\n",
      "}\n",
      "incarnation: 17325860817034424026\n",
      "xla_global_id: -1\n",
      "]\n"
     ]
    }
   ],
   "source": [
    "# Teste config GPU\n",
    "from tensorflow.python.client import device_lib\n",
    "print(device_lib.list_local_devices())"
   ]
  },
  {
   "cell_type": "code",
   "execution_count": 14,
   "metadata": {},
   "outputs": [
    {
     "name": "stdout",
     "output_type": "stream",
     "text": [
      "Epoch 1/10\n",
      "75/75 [==============================] - 85s 1s/step - loss: 0.8118 - acc: 0.5942 - val_loss: 0.7920 - val_acc: 0.5900\n",
      "Epoch 2/10\n",
      "75/75 [==============================] - 85s 1s/step - loss: 0.7028 - acc: 0.6504 - val_loss: 0.7553 - val_acc: 0.5950\n",
      "Epoch 3/10\n",
      "75/75 [==============================] - 86s 1s/step - loss: 0.6468 - acc: 0.6950 - val_loss: 0.7105 - val_acc: 0.6300\n",
      "Epoch 4/10\n",
      "75/75 [==============================] - 88s 1s/step - loss: 0.5863 - acc: 0.7329 - val_loss: 0.6779 - val_acc: 0.6517\n",
      "Epoch 5/10\n",
      "75/75 [==============================] - 78s 1s/step - loss: 0.5298 - acc: 0.7633 - val_loss: 0.7037 - val_acc: 0.6183\n",
      "Epoch 6/10\n",
      "75/75 [==============================] - 78s 1s/step - loss: 0.4843 - acc: 0.7900 - val_loss: 0.6370 - val_acc: 0.6900\n",
      "Epoch 7/10\n",
      "75/75 [==============================] - 77s 1s/step - loss: 0.4356 - acc: 0.8196 - val_loss: 0.6509 - val_acc: 0.6700\n",
      "Epoch 8/10\n",
      "75/75 [==============================] - 85s 1s/step - loss: 0.3841 - acc: 0.8504 - val_loss: 0.7075 - val_acc: 0.6717\n",
      "Epoch 9/10\n",
      "75/75 [==============================] - 81s 1s/step - loss: 0.3507 - acc: 0.8621 - val_loss: 0.6373 - val_acc: 0.7000\n",
      "Epoch 10/10\n",
      "75/75 [==============================] - 80s 1s/step - loss: 0.2967 - acc: 0.8929 - val_loss: 0.6650 - val_acc: 0.7017\n"
     ]
    },
    {
     "data": {
      "text/plain": [
       "<keras.src.callbacks.History at 0x2d3c5497fa0>"
      ]
     },
     "execution_count": 14,
     "metadata": {},
     "output_type": "execute_result"
    }
   ],
   "source": [
    "model.fit(train_generator, epochs=epochs, validation_data=validation_generator)"
   ]
  },
  {
   "cell_type": "code",
   "execution_count": 17,
   "metadata": {},
   "outputs": [
    {
     "name": "stdout",
     "output_type": "stream",
     "text": [
      "19/19 [==============================] - 5s 210ms/step\n",
      "Confusion Matrix\n",
      "[[72 71 57]\n",
      " [67 68 65]\n",
      " [55 78 67]]\n",
      "Classification Report\n",
      "              precision    recall  f1-score   support\n",
      "\n",
      "        cats       0.37      0.36      0.37       200\n",
      "        dogs       0.31      0.34      0.33       200\n",
      "       panda       0.35      0.34      0.34       200\n",
      "\n",
      "    accuracy                           0.34       600\n",
      "   macro avg       0.35      0.34      0.35       600\n",
      "weighted avg       0.35      0.34      0.35       600\n",
      "\n"
     ]
    }
   ],
   "source": [
    "from sklearn.metrics import classification_report, confusion_matrix\n",
    "\n",
    "Y_pred = model.predict(validation_generator)\n",
    "y_pred = np.argmax(Y_pred, axis=1)\n",
    "\n",
    "print('Confusion Matrix')\n",
    "print(confusion_matrix(validation_generator.classes, y_pred))\n",
    "print('Classification Report')\n",
    "target_names = ['cats', 'dogs', 'panda']\n",
    "print(classification_report(validation_generator.classes, y_pred, target_names=target_names))\n",
    "\n"
   ]
  }
 ],
 "metadata": {
  "kernelspec": {
   "display_name": "Python 3",
   "language": "python",
   "name": "python3"
  },
  "language_info": {
   "codemirror_mode": {
    "name": "ipython",
    "version": 3
   },
   "file_extension": ".py",
   "mimetype": "text/x-python",
   "name": "python",
   "nbconvert_exporter": "python",
   "pygments_lexer": "ipython3",
   "version": "3.8.17"
  },
  "orig_nbformat": 4
 },
 "nbformat": 4,
 "nbformat_minor": 2
}
